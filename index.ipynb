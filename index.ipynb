{
 "cells": [
  {
   "cell_type": "markdown",
   "metadata": {},
   "source": [
    "# A/B Testing - Lab\n",
    "\n",
    "### Objectives\n",
    "\n",
    "-  Design, structure, and run an A/B test\n",
    "\n",
    "\n",
    "### Scenario\n",
    "\n",
    "- design an experiment to test whether a new email template will be more effective for your company's marketing team. \n",
    "- The current template has a 5% response rate, which has outperformed numerous other templates in the past.\n",
    "- determine how many individuals needed to serve the new email template to detect a 1% performance increase (or drop)."
   ]
  },
  {
   "cell_type": "code",
   "execution_count": null,
   "metadata": {},
   "outputs": [],
   "source": []
  },
  {
   "cell_type": "markdown",
   "metadata": {},
   "source": [
    "### Step 1: State Null Hypothesis, $H_0$"
   ]
  },
  {
   "cell_type": "markdown",
   "metadata": {},
   "source": [
    "$H_0$ : response_rate_new_template = .05"
   ]
  },
  {
   "cell_type": "markdown",
   "metadata": {},
   "source": [
    "### Step 2: State Alternative Hypothesis, $H_1$"
   ]
  },
  {
   "cell_type": "markdown",
   "metadata": {},
   "source": [
    "$H_1$ : response_rate_new_template > .06"
   ]
  },
  {
   "cell_type": "markdown",
   "metadata": {},
   "source": [
    "### Step 3: Define Alpha and Beta\n",
    "\n",
    "- define what alpha and beta you believe might be appropriate for this scenario.\n",
    "    - To start, arbitrarily set alpha and beta to .01, indicating that we wish to minimally open ourselves up to type I and type II errors. \n",
    "    - Later, we will be able to adapt these, if sample sizes turn out to be impractically large."
   ]
  },
  {
   "cell_type": "markdown",
   "metadata": {},
   "source": [
    "$\\alpha$ = 0.1 <br>\n",
    "$\\beta$ = .01"
   ]
  },
  {
   "cell_type": "code",
   "execution_count": 18,
   "metadata": {},
   "outputs": [],
   "source": [
    "import scipy.stats as stats"
   ]
  },
  {
   "cell_type": "code",
   "execution_count": 19,
   "metadata": {},
   "outputs": [],
   "source": [
    "alpha = .01 while a type II error is the failure to reject a false null hypothesis (also known as a \"false negative\" finding or conclusion).\n",
    "beta = .01 # the probability of a type I error occuring is denoted by  αα (pronounced alpha). is the rejection of a true null hypothesis (also known as a \"false positive\" finding or conclusion), "
   ]
  },
  {
   "cell_type": "markdown",
   "metadata": {},
   "source": [
    "### Step 4: Calculate N\n",
    "\n",
    "- calculating n requires us to know the variance, $\\sigma^2$\n",
    "- In this case, we will have a binomial variable (they either respond to the email or don't) and thus the variance, can be calculated with a standard formula: $n\\bullet p\\bullet(1-p)$ \n",
    "- however, this also requires knowledge of p, the probability of response from the updated template. After conducting a limited sample however, we can extrapolate more and detemine if we have sufficient evidence or not.\n",
    "\n",
    "\n",
    "...So, after an initial trial of 35 individuals, you have a total of 2 responses. \n",
    "\n",
    "Is this sufficient evidence to refute the null hypothesis stated above?"
   ]
  },
  {
   "cell_type": "code",
   "execution_count": 20,
   "metadata": {},
   "outputs": [
    {
     "data": {
      "text/plain": [
       "0.05714285714285714"
      ]
     },
     "execution_count": 20,
     "metadata": {},
     "output_type": "execute_result"
    }
   ],
   "source": [
    "mean_1 = 2/35\n",
    "mean_1"
   ]
  },
  {
   "cell_type": "markdown",
   "metadata": {},
   "source": [
    "## $n=\\frac{(z_\\alpha+z_\\beta)^2\\sigma^2}{(\\mu_1-\\mu_0)^2}$"
   ]
  },
  {
   "cell_type": "markdown",
   "metadata": {},
   "source": [
    "#Your code for testing the null hypothesis here\n",
    "variance, $\\sigma^2$. \n",
    "\n",
    "mean "
   ]
  },
  {
   "cell_type": "code",
   "execution_count": 26,
   "metadata": {},
   "outputs": [],
   "source": [
    "# determine the necessary sample size for a desired $\\alpha$ and $\\beta$ combination. \n",
    "\n",
    "def compute_n(alpha, beta, mu_0, mu_1, var):\n",
    "    z_alpha = stats.norm.ppf(alpha) # Percent point function (inverse of cdf) at q of the given RV.\n",
    "    z_beta = stats.norm.ppf(beta) # Percent point function (inverse of cdf) at q of the given RV.\n",
    "    num = ((z_alpha+z_beta)**2)*var # \n",
    "    den = (mu_1 - mu_0)**2\n",
    "    return num/den"
   ]
  },
  {
   "cell_type": "code",
   "execution_count": 27,
   "metadata": {},
   "outputs": [
    {
     "data": {
      "text/plain": [
       "0.05714285714285714"
      ]
     },
     "execution_count": 27,
     "metadata": {},
     "output_type": "execute_result"
    }
   ],
   "source": [
    "mu_1 = 2/35\n",
    "mu_1"
   ]
  },
  {
   "cell_type": "code",
   "execution_count": 39,
   "metadata": {},
   "outputs": [],
   "source": [
    "alpha = .01 # part of A/B test design\n",
    "beta = .01 # part of A/B test design\n",
    "mu_0 = .05 # part of A/B test design, to detect a 1 percentage point increase in performance\n",
    "mu_1 = .06 # part of A/B test design\n",
    "var = 35*(2/35)*(1-2/35) #sample variance using binomial variance formula, n times p times 1-p"
   ]
  },
  {
   "cell_type": "code",
   "execution_count": 34,
   "metadata": {},
   "outputs": [
    {
     "data": {
      "text/plain": [
       "1.8857142857142857"
      ]
     },
     "execution_count": 34,
     "metadata": {},
     "output_type": "execute_result"
    }
   ],
   "source": [
    "var"
   ]
  },
  {
   "cell_type": "code",
   "execution_count": 43,
   "metadata": {},
   "outputs": [
    {
     "data": {
      "text/plain": [
       "-2.3263478740408408"
      ]
     },
     "execution_count": 43,
     "metadata": {},
     "output_type": "execute_result"
    }
   ],
   "source": [
    "z_alpha = stats.norm.ppf(alpha)\n",
    "z_alpha"
   ]
  },
  {
   "cell_type": "code",
   "execution_count": 42,
   "metadata": {},
   "outputs": [
    {
     "data": {
      "text/plain": [
       "-2.3263478740408408"
      ]
     },
     "execution_count": 42,
     "metadata": {},
     "output_type": "execute_result"
    }
   ],
   "source": [
    "z_beta = stats.norm.ppf(beta)\n",
    "z_beta"
   ]
  },
  {
   "cell_type": "markdown",
   "metadata": {},
   "source": [
    "sample mean: $ \\mu_1$ <br>\n",
    "varianc: $\\sigma^2 = n * p * (1-p)$"
   ]
  },
  {
   "cell_type": "code",
   "execution_count": 36,
   "metadata": {},
   "outputs": [
    {
     "data": {
      "text/plain": [
       "408211.46565667057"
      ]
     },
     "execution_count": 36,
     "metadata": {},
     "output_type": "execute_result"
    }
   ],
   "source": [
    "required_n = compute_n(alpha, beta, mu_0, mu_1, var)\n",
    "required_n"
   ]
  },
  {
   "cell_type": "markdown",
   "metadata": {},
   "source": [
    "$\\mu_0 = .05$ <br>\n",
    "$\\mu_1 = .05714285714285714$"
   ]
  },
  {
   "cell_type": "markdown",
   "metadata": {},
   "source": [
    "## Variance\n",
    "\n",
    "- variance, a measure of dispersion the squared deviations. Adding up these squared deviations gives us the **sum of squares**, which we can then divide by the total number of values in our data.  Variance can be calculated with the formula:\n",
    "\n",
    "![](variance.jpg)\n",
    "\n",
    "- variance (σ2: sigma-squared), is achieved by: \n",
    "* subtracting mean value (shown as mu) from each element in turn\n",
    "* squaring the result (to remove the negative sign) and adding to a total\n",
    "* dividing by total number of observations\n",
    "\n",
    "- if the values in the data are spread out, the variance will be a large number\n",
    "- if the values are spread closely around the mean, the variance will be a much smaller number. \n",
    "\n",
    "- two potential problems with the variance. \n",
    "    1. because the deviations of values from the mean are 'squared', this gives more weight to extreme scores.\n",
    "        - Outliers in the data can also impact variance. \n",
    "    2. the variance is not in the same units as the values in our data set. \n",
    "        - Variance is measured in the units **squared**. This means we cannot directly relate variance value to the values in our data set. "
   ]
  },
  {
   "cell_type": "markdown",
   "metadata": {},
   "source": [
    "### Your answer here: is there sufficient data to refute the null hypothesis? [Yes/No]\n",
    "No, it would require a sample size of N=408211.46565667057 to refute the null hypothesis that the response rate of the email template is equal to .05, based on our initial sample"
   ]
  },
  {
   "cell_type": "markdown",
   "metadata": {},
   "source": [
    "## Experimenting With New Test Designs\n",
    "If we relax alpha and beta to .05, each (opening ourselves up to a higher probability of making type I and type II errors), how much would our required sample size drop?"
   ]
  },
  {
   "cell_type": "code",
   "execution_count": 45,
   "metadata": {},
   "outputs": [],
   "source": [
    "alpha = .05\n",
    "beta = .05\n",
    "mu_0 = .05 # part of A/B test design\n",
    "mu_1 = .06 # part of A/B test design\n",
    "var = 35*(2/35)*(1-2/35)"
   ]
  },
  {
   "cell_type": "code",
   "execution_count": 46,
   "metadata": {},
   "outputs": [
    {
     "data": {
      "text/plain": [
       "1.8857142857142857"
      ]
     },
     "execution_count": 46,
     "metadata": {},
     "output_type": "execute_result"
    }
   ],
   "source": [
    "var"
   ]
  },
  {
   "cell_type": "code",
   "execution_count": 47,
   "metadata": {},
   "outputs": [
    {
     "data": {
      "text/plain": [
       "204075.27768034008"
      ]
     },
     "execution_count": 47,
     "metadata": {},
     "output_type": "execute_result"
    }
   ],
   "source": [
    "compute_n(alpha, beta, mu_0, mu_1, var)"
   ]
  },
  {
   "cell_type": "markdown",
   "metadata": {},
   "source": [
    "### Your answer here: how much would required sample size drop based on the new formulation?\n",
    "The sample size required would be approximately half as large, equal to 204,075"
   ]
  },
  {
   "cell_type": "markdown",
   "metadata": {},
   "source": [
    "## Summary\n",
    "\n",
    "In this lab, you practiced designing an intial experiment and then refined the parameters of the experiment based on an initial sample to determine feasability."
   ]
  }
 ],
 "metadata": {
  "kernelspec": {
   "display_name": "Python 3",
   "language": "python",
   "name": "python3"
  },
  "language_info": {
   "codemirror_mode": {
    "name": "ipython",
    "version": 3
   },
   "file_extension": ".py",
   "mimetype": "text/x-python",
   "name": "python",
   "nbconvert_exporter": "python",
   "pygments_lexer": "ipython3",
<<<<<<< HEAD
   "version": "3.6.5"
=======
   "version": "3.6.6"
>>>>>>> 0fdb0eb23ff680b169af65e9273b81dd71c1756e
  }
 },
 "nbformat": 4,
 "nbformat_minor": 2
}
